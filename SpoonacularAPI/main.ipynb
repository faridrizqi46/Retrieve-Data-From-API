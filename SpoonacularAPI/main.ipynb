{
 "cells": [
  {
   "cell_type": "code",
   "execution_count": 1,
   "metadata": {},
   "outputs": [],
   "source": [
    "import requests\n",
    "import token_api\n",
    "from prettyprinter import pprint as pp\n",
    "import pandas as pd\n",
    "import pymysql\n",
    "from datetime import datetime\n",
    "import datetime"
   ]
  },
  {
   "cell_type": "markdown",
   "metadata": {},
   "source": [
    "# Ekstrak"
   ]
  },
  {
   "cell_type": "code",
   "execution_count": 2,
   "metadata": {},
   "outputs": [],
   "source": [
    "url = 'https://api.spoonacular.com/recipes/complexSearch'\n",
    "headers = {\n",
    "    'apiKey': token_api.TOKEN\n",
    "    }\n",
    "params = {'apiKey': token_api.TOKEN, 'cusine':'indonesia'}\n",
    "r = requests.get(url, params=params)\n",
    "df = pd.json_normalize(data=r.json()['results'])"
   ]
  },
  {
   "cell_type": "code",
   "execution_count": 3,
   "metadata": {},
   "outputs": [],
   "source": [
    "today = datetime.datetime.now().strftime('%Y-%m-%d')\n",
    "df['date'] = today"
   ]
  },
  {
   "cell_type": "code",
   "execution_count": 4,
   "metadata": {},
   "outputs": [
    {
     "data": {
      "text/html": [
       "<div>\n",
       "<style scoped>\n",
       "    .dataframe tbody tr th:only-of-type {\n",
       "        vertical-align: middle;\n",
       "    }\n",
       "\n",
       "    .dataframe tbody tr th {\n",
       "        vertical-align: top;\n",
       "    }\n",
       "\n",
       "    .dataframe thead th {\n",
       "        text-align: right;\n",
       "    }\n",
       "</style>\n",
       "<table border=\"1\" class=\"dataframe\">\n",
       "  <thead>\n",
       "    <tr style=\"text-align: right;\">\n",
       "      <th></th>\n",
       "      <th>id</th>\n",
       "      <th>title</th>\n",
       "      <th>image</th>\n",
       "      <th>imageType</th>\n",
       "      <th>date</th>\n",
       "    </tr>\n",
       "  </thead>\n",
       "  <tbody>\n",
       "    <tr>\n",
       "      <th>0</th>\n",
       "      <td>716426</td>\n",
       "      <td>Cauliflower, Brown Rice, and Vegetable Fried Rice</td>\n",
       "      <td>https://spoonacular.com/recipeImages/716426-31...</td>\n",
       "      <td>jpg</td>\n",
       "      <td>2022-01-14</td>\n",
       "    </tr>\n",
       "    <tr>\n",
       "      <th>1</th>\n",
       "      <td>715594</td>\n",
       "      <td>Homemade Garlic and Basil French Fries</td>\n",
       "      <td>https://spoonacular.com/recipeImages/715594-31...</td>\n",
       "      <td>jpg</td>\n",
       "      <td>2022-01-14</td>\n",
       "    </tr>\n",
       "    <tr>\n",
       "      <th>2</th>\n",
       "      <td>715497</td>\n",
       "      <td>Berry Banana Breakfast Smoothie</td>\n",
       "      <td>https://spoonacular.com/recipeImages/715497-31...</td>\n",
       "      <td>jpg</td>\n",
       "      <td>2022-01-14</td>\n",
       "    </tr>\n",
       "    <tr>\n",
       "      <th>3</th>\n",
       "      <td>644387</td>\n",
       "      <td>Garlicky Kale</td>\n",
       "      <td>https://spoonacular.com/recipeImages/644387-31...</td>\n",
       "      <td>jpg</td>\n",
       "      <td>2022-01-14</td>\n",
       "    </tr>\n",
       "    <tr>\n",
       "      <th>4</th>\n",
       "      <td>716268</td>\n",
       "      <td>African Chicken Peanut Stew</td>\n",
       "      <td>https://spoonacular.com/recipeImages/716268-31...</td>\n",
       "      <td>jpg</td>\n",
       "      <td>2022-01-14</td>\n",
       "    </tr>\n",
       "    <tr>\n",
       "      <th>5</th>\n",
       "      <td>716381</td>\n",
       "      <td>Nigerian Snail Stew</td>\n",
       "      <td>https://spoonacular.com/recipeImages/716381-31...</td>\n",
       "      <td>jpg</td>\n",
       "      <td>2022-01-14</td>\n",
       "    </tr>\n",
       "    <tr>\n",
       "      <th>6</th>\n",
       "      <td>782601</td>\n",
       "      <td>Red Kidney Bean Jambalaya</td>\n",
       "      <td>https://spoonacular.com/recipeImages/782601-31...</td>\n",
       "      <td>jpg</td>\n",
       "      <td>2022-01-14</td>\n",
       "    </tr>\n",
       "    <tr>\n",
       "      <th>7</th>\n",
       "      <td>794349</td>\n",
       "      <td>Broccoli and Chickpea Rice Salad</td>\n",
       "      <td>https://spoonacular.com/recipeImages/794349-31...</td>\n",
       "      <td>jpg</td>\n",
       "      <td>2022-01-14</td>\n",
       "    </tr>\n",
       "    <tr>\n",
       "      <th>8</th>\n",
       "      <td>715446</td>\n",
       "      <td>Slow Cooker Beef Stew</td>\n",
       "      <td>https://spoonacular.com/recipeImages/715446-31...</td>\n",
       "      <td>jpg</td>\n",
       "      <td>2022-01-14</td>\n",
       "    </tr>\n",
       "    <tr>\n",
       "      <th>9</th>\n",
       "      <td>715415</td>\n",
       "      <td>Red Lentil Soup with Chicken and Turnips</td>\n",
       "      <td>https://spoonacular.com/recipeImages/715415-31...</td>\n",
       "      <td>jpg</td>\n",
       "      <td>2022-01-14</td>\n",
       "    </tr>\n",
       "  </tbody>\n",
       "</table>\n",
       "</div>"
      ],
      "text/plain": [
       "       id                                              title  \\\n",
       "0  716426  Cauliflower, Brown Rice, and Vegetable Fried Rice   \n",
       "1  715594             Homemade Garlic and Basil French Fries   \n",
       "2  715497                    Berry Banana Breakfast Smoothie   \n",
       "3  644387                                      Garlicky Kale   \n",
       "4  716268                        African Chicken Peanut Stew   \n",
       "5  716381                                Nigerian Snail Stew   \n",
       "6  782601                          Red Kidney Bean Jambalaya   \n",
       "7  794349                   Broccoli and Chickpea Rice Salad   \n",
       "8  715446                              Slow Cooker Beef Stew   \n",
       "9  715415           Red Lentil Soup with Chicken and Turnips   \n",
       "\n",
       "                                               image imageType        date  \n",
       "0  https://spoonacular.com/recipeImages/716426-31...       jpg  2022-01-14  \n",
       "1  https://spoonacular.com/recipeImages/715594-31...       jpg  2022-01-14  \n",
       "2  https://spoonacular.com/recipeImages/715497-31...       jpg  2022-01-14  \n",
       "3  https://spoonacular.com/recipeImages/644387-31...       jpg  2022-01-14  \n",
       "4  https://spoonacular.com/recipeImages/716268-31...       jpg  2022-01-14  \n",
       "5  https://spoonacular.com/recipeImages/716381-31...       jpg  2022-01-14  \n",
       "6  https://spoonacular.com/recipeImages/782601-31...       jpg  2022-01-14  \n",
       "7  https://spoonacular.com/recipeImages/794349-31...       jpg  2022-01-14  \n",
       "8  https://spoonacular.com/recipeImages/715446-31...       jpg  2022-01-14  \n",
       "9  https://spoonacular.com/recipeImages/715415-31...       jpg  2022-01-14  "
      ]
     },
     "execution_count": 4,
     "metadata": {},
     "output_type": "execute_result"
    }
   ],
   "source": [
    "df"
   ]
  },
  {
   "cell_type": "markdown",
   "metadata": {},
   "source": [
    "# Transform / Validate"
   ]
  },
  {
   "cell_type": "code",
   "execution_count": 5,
   "metadata": {},
   "outputs": [],
   "source": [
    "def check_if_valid_data(df: pd.DataFrame) -> bool:\n",
    "    # Check if dataframe is empty\n",
    "    if df.empty:\n",
    "        print(\"No songs downloaded. Finishing execution\")\n",
    "        return False \n",
    "\n",
    "    # # Primary Key Check\n",
    "    # if pd.Series(df['played_at']).is_unique:\n",
    "    #     pass\n",
    "    # else:\n",
    "    #     raise Exception(\"Primary Key check is violated\")\n",
    "\n",
    "    # Check for nulls\n",
    "    if df.isnull().values.any():\n",
    "        raise Exception(\"Null values found\")\n",
    "\n",
    "    # # Check that all timestamps are of yesterday's date\n",
    "    # yesterday = datetime.datetime.now() - datetime.timedelta(days=1)\n",
    "    # yesterday = yesterday.replace(hour=0, minute=0, second=0, microsecond=0)\n",
    "\n",
    "    # timestamps = df[\"timestamp\"].tolist()\n",
    "    # for timestamp in timestamps:\n",
    "    #     if datetime.datetime.strptime(timestamp, '%Y-%m-%d') != yesterday:\n",
    "    #         raise Exception(\"At least one of the returned songs does not have a yesterday's timestamp\")\n",
    "\n",
    "    return True"
   ]
  },
  {
   "cell_type": "code",
   "execution_count": 6,
   "metadata": {},
   "outputs": [
    {
     "name": "stdout",
     "output_type": "stream",
     "text": [
      "Data valid, proceed to Load stage\n"
     ]
    }
   ],
   "source": [
    "if check_if_valid_data(df):\n",
    "        print(\"Data valid, proceed to Load stage\")"
   ]
  },
  {
   "cell_type": "markdown",
   "metadata": {},
   "source": [
    "# Load"
   ]
  },
  {
   "cell_type": "code",
   "execution_count": 7,
   "metadata": {},
   "outputs": [
    {
     "data": {
      "text/plain": [
       "<pymysql.connections.Connection at 0x2337ebbd208>"
      ]
     },
     "execution_count": 7,
     "metadata": {},
     "output_type": "execute_result"
    }
   ],
   "source": [
    "db = pymysql.connect(host=token_api.HOST_NAME_mysql, user=token_api.USERNAME_mysql, password=token_api.PASSWORD_mysql, database=token_api.DBNAME_mysql)\n",
    "db"
   ]
  },
  {
   "cell_type": "code",
   "execution_count": 8,
   "metadata": {},
   "outputs": [
    {
     "data": {
      "text/plain": [
       "<pymysql.cursors.Cursor at 0x2337ebbd608>"
      ]
     },
     "execution_count": 8,
     "metadata": {},
     "output_type": "execute_result"
    }
   ],
   "source": [
    "cursor = db.cursor()\n",
    "cursor"
   ]
  },
  {
   "cell_type": "code",
   "execution_count": 46,
   "metadata": {},
   "outputs": [
    {
     "data": {
      "text/plain": [
       "0"
      ]
     },
     "execution_count": 46,
     "metadata": {},
     "output_type": "execute_result"
    }
   ],
   "source": [
    "# sql = '''use test'''\n",
    "# cursor.execute(sql)"
   ]
  },
  {
   "cell_type": "code",
   "execution_count": 9,
   "metadata": {},
   "outputs": [
    {
     "data": {
      "text/plain": [
       "0"
      ]
     },
     "execution_count": 9,
     "metadata": {},
     "output_type": "execute_result"
    }
   ],
   "source": [
    "sql = \"\"\"CREATE TABLE IF NOT EXISTS food (\n",
    "                    date DATE NOT NULL,\n",
    "                    food_id TEXT NOT NULL,\n",
    "                    title TEXT NOT NULL,\n",
    "                    image TEXT NOT NULL,\n",
    "                    image_type TEXT NOT NULL\n",
    "            )\"\"\"\n",
    "cursor.execute(sql)"
   ]
  },
  {
   "cell_type": "code",
   "execution_count": 10,
   "metadata": {},
   "outputs": [],
   "source": [
    "for i,row in df.iterrows():\n",
    "    insert_into_videos = (\"\"\"INSERT INTO food (date, food_id, title, image, image_type)\n",
    "                            VALUES(%s,%s,%s,%s,%s);\"\"\")\n",
    "    row_to_insert = (row[-1], row[0], row[1], row[2], row[3])\n",
    "    cursor.execute(insert_into_videos, row_to_insert)"
   ]
  },
  {
   "cell_type": "code",
   "execution_count": 12,
   "metadata": {},
   "outputs": [],
   "source": [
    "cursor.connection.commit()"
   ]
  },
  {
   "cell_type": "code",
   "execution_count": 13,
   "metadata": {},
   "outputs": [],
   "source": [
    "db.close()"
   ]
  },
  {
   "cell_type": "code",
   "execution_count": null,
   "metadata": {},
   "outputs": [],
   "source": []
  }
 ],
 "metadata": {
  "interpreter": {
   "hash": "698de5fc1f1a81013a5c0248d0e57902ffdc28a360048380b9626eaade1e4412"
  },
  "kernelspec": {
   "display_name": "Python 3.7.9 64-bit (system)",
   "language": "python",
   "name": "python3"
  },
  "language_info": {
   "codemirror_mode": {
    "name": "ipython",
    "version": 3
   },
   "file_extension": ".py",
   "mimetype": "text/x-python",
   "name": "python",
   "nbconvert_exporter": "python",
   "pygments_lexer": "ipython3",
   "version": "3.7.9"
  },
  "orig_nbformat": 4
 },
 "nbformat": 4,
 "nbformat_minor": 2
}
