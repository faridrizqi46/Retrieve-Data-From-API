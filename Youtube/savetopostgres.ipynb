{
 "cells": [
  {
   "cell_type": "code",
   "execution_count": 1,
   "metadata": {},
   "outputs": [],
   "source": [
    "import psycopg2 as ps\n",
    "import pandas as pd\n",
    "import tokenkey as tk"
   ]
  },
  {
   "cell_type": "code",
   "execution_count": 2,
   "metadata": {},
   "outputs": [
    {
     "name": "stdout",
     "output_type": "stream",
     "text": [
      "      video_id                                        video_title upload_date  \\\n",
      "0  30hS-MjpU6E  SQL Syntax Best Practices: How to Structure Yo...  2021-12-22   \n",
      "1  Bgpp99iz0I0  Most Common Coding Mistakes on Data Science In...  2021-11-04   \n",
      "2  GeJUvdkJKEc  Multiple Solutions to Data Scientist Interview...  2021-10-11   \n",
      "3  GGURenNfXI0  Multiple Approaches for Solving a Twitter Data...  2021-09-13   \n",
      "4  PlpUo6bHsBQ  Advanced Facebook Data Science SQL interview q...  2021-08-09   \n",
      "\n",
      "   view_count  like_count  dislike_count  comment_count  \n",
      "0        2978         182            NaN             18  \n",
      "1        3108         153            NaN             27  \n",
      "2        4151         126            NaN             32  \n",
      "3        3229         144            NaN             32  \n",
      "4       10621         341            NaN             45  \n"
     ]
    }
   ],
   "source": [
    "df = pd.read_csv('D:\\Program File\\Python\\AllEnv\\envlatihan\\Latihan\\RequestAPI\\Youtube\\youtube_pull.csv')\n",
    "print(df.head())"
   ]
  },
  {
   "cell_type": "code",
   "execution_count": 3,
   "metadata": {},
   "outputs": [
    {
     "name": "stdout",
     "output_type": "stream",
     "text": [
      "Connected!\n"
     ]
    }
   ],
   "source": [
    "def connect_to_db(host_name, dbname, username, password, port):\n",
    "    try:\n",
    "        conn = ps.connect(host=host_name, database=dbname, user=username, password=password, port=port)\n",
    "\n",
    "    except ps.OperationalError as e:\n",
    "        raise e\n",
    "    else:\n",
    "        print('Connected!')\n",
    "        return conn\n",
    "\n",
    "conn = connect_to_db(tk.HOST_NAME_Postgres, tk.DBNAME_Postgres, tk.USERNAME_Postgres, tk.PASSWORD_Postgres, tk.PORT_Postgres)\n",
    "curr = conn.cursor()"
   ]
  },
  {
   "cell_type": "code",
   "execution_count": 4,
   "metadata": {},
   "outputs": [],
   "source": [
    "sql = \"\"\"DROP TABLE videos\"\"\"\n",
    "curr.execute(sql)\n",
    "conn.commit()"
   ]
  },
  {
   "cell_type": "code",
   "execution_count": 5,
   "metadata": {},
   "outputs": [],
   "source": [
    "def create_table(curr):\n",
    "    create_table_command = (\"\"\"CREATE TABLE IF NOT EXISTS videos (\n",
    "                    video_id VARCHAR(255) PRIMARY KEY,\n",
    "                    video_title TEXT NOT NULL,\n",
    "                    upload_date DATE NOT NULL DEFAULT CURRENT_DATE,\n",
    "                    view_count INTEGER NOT NULL,\n",
    "                    like_count INTEGER NOT NULL,\n",
    "                    comment_count INTEGER NOT NULL\n",
    "            )\"\"\")\n",
    "\n",
    "    curr.execute(create_table_command)\n",
    "\n",
    "create_table(curr)\n",
    "conn.commit()"
   ]
  },
  {
   "cell_type": "code",
   "execution_count": 6,
   "metadata": {},
   "outputs": [],
   "source": [
    "def insert_into_table(curr, video_id, video_title, upload_date, view_count, like_count, comment_count):\n",
    "    insert_into_videos = (\"\"\"INSERT INTO videos (video_id, video_title, upload_date,\n",
    "                        view_count, like_count, comment_count)\n",
    "    VALUES(%s,%s,%s,%s,%s,%s);\"\"\")\n",
    "    row_to_insert = (video_id, video_title, upload_date, view_count, like_count, comment_count)\n",
    "    curr.execute(insert_into_videos, row_to_insert)\n",
    "\n",
    "\n",
    "def update_row(curr, video_id, video_title, view_count, like_count, comment_count):\n",
    "    query = (\"\"\"UPDATE videos\n",
    "            SET video_title = %s,\n",
    "                view_count = %s,\n",
    "                like_count = %s,\n",
    "                comment_count = %s\n",
    "            WHERE video_id = %s;\"\"\")\n",
    "    vars_to_update = (video_title, view_count, like_count, comment_count, video_id)\n",
    "    curr.execute(query, vars_to_update)\n",
    "\n",
    "\n",
    "def check_if_video_exists(curr, video_id): \n",
    "    query = (\"\"\"SELECT video_id FROM videos WHERE video_id = %s\"\"\")\n",
    "\n",
    "    curr.execute(query, (video_id,))\n",
    "    return curr.fetchone() is not None\n",
    "\n",
    "\n",
    "\n",
    "def truncate_table(curr):\n",
    "    truncate_table = (\"\"\"TRUNCATE TABLE videos\"\"\")\n",
    "\n",
    "    curr.execute(truncate_table)\n",
    "\n",
    "\n",
    "def append_from_df_to_db(curr,df):\n",
    "    for i, row in df.iterrows():\n",
    "        insert_into_table(curr, row['video_id'], row['video_title'], row['upload_date'], row['view_count']\n",
    "                          , row['like_count'], row['comment_count'])\n",
    "\n",
    "\n",
    "# Buat liat misal datanya udah ada dia cuma bakal update doang datanya berdasarkan idnya, klo belom ada di append ke temp_df dulu\n",
    "# Nanti temp_df bakal di append ke db lewat func append_from_df_to_db()\n",
    "def update_db(curr,df):\n",
    "    tmp_df = pd.DataFrame(columns=['video_id', 'video_title', 'upload_date', 'view_count',\n",
    "                                   'like_count', 'comment_count'])\n",
    "    for i, row in df.iterrows():\n",
    "        if check_if_video_exists(curr, row['video_id']): # If video already exists then we will update\n",
    "            update_row(curr,row['video_id'],row['video_title'],row['view_count'],row['like_count'],row['comment_count'])\n",
    "        else: # The video doesn't exists so we will add it to a temp df and append it using append_from_df_to_db\n",
    "            tmp_df = tmp_df.append(row)\n",
    "\n",
    "    return tmp_df"
   ]
  },
  {
   "cell_type": "code",
   "execution_count": 7,
   "metadata": {},
   "outputs": [],
   "source": [
    "#update data for existing videos\n",
    "\n",
    "new_vid_df = update_db(curr,df)\n",
    "conn.commit()"
   ]
  },
  {
   "cell_type": "code",
   "execution_count": 8,
   "metadata": {},
   "outputs": [],
   "source": [
    "append_from_df_to_db(curr, new_vid_df)\n",
    "conn.commit()"
   ]
  },
  {
   "cell_type": "code",
   "execution_count": null,
   "metadata": {},
   "outputs": [],
   "source": []
  }
 ],
 "metadata": {
  "interpreter": {
   "hash": "698de5fc1f1a81013a5c0248d0e57902ffdc28a360048380b9626eaade1e4412"
  },
  "kernelspec": {
   "display_name": "Python 3.7.9 64-bit (system)",
   "language": "python",
   "name": "python3"
  },
  "language_info": {
   "codemirror_mode": {
    "name": "ipython",
    "version": 3
   },
   "file_extension": ".py",
   "mimetype": "text/x-python",
   "name": "python",
   "nbconvert_exporter": "python",
   "pygments_lexer": "ipython3",
   "version": "3.7.9"
  },
  "orig_nbformat": 4
 },
 "nbformat": 4,
 "nbformat_minor": 2
}
